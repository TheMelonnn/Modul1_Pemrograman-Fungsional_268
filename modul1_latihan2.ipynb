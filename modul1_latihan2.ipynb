{
 "cells": [
  {
   "cell_type": "code",
   "execution_count": null,
   "id": "b4dee28d-5d8e-4cb2-9326-1b3db37c8198",
   "metadata": {
    "tags": []
   },
   "outputs": [],
   "source": [
    "#Inisiasi penyimpanan\n",
    "temp_data_float = []\n",
    "data_string = []\n",
    "data_int = {'satuan' : [], 'puluhan' : [], 'ratusan' : []}\n",
    "\n",
    "def checkdata (input_list) :\n",
    "    random_list = input_list\n",
    "    for data in random_list:\n",
    "        if type(data) == float:\n",
    "            temp_data_float.append(data)\n",
    "        \n",
    "        elif type(data) == str:\n",
    "            data_string.append(data)\n",
    "        \n",
    "        elif type(data) == int:\n",
    "            if data / 10 < 1:\n",
    "                data_int['satuan'].append(data)\n",
    "            elif data / 100 < 1:\n",
    "                data_int['puluhan'].append(data)\n",
    "            elif data /1000 < 1:\n",
    "                data_int['ratusan'].append(data)\n",
    "            else:\n",
    "                print(data, \" : Data invalid\")\n",
    "        \n",
    "        else:\n",
    "            print(data, \" : data invalid\")\n",
    "    \n",
    "    #Konversi tipe data\n",
    "    data_float = tuple(temp_data_float)\n",
    "    \n",
    "    print(\"Hasil pemisahan data :\")\n",
    "    print(\"Data Float : \", (data_float), \" dengan tipe data \",type(data_float))\n",
    "    print(\"Data String : \", data_string, \" dengan tipe data \",type(data_string))\n",
    "    print(\"Data Integer : \", data_int,  \" dengan tipe data \",type(data_int))"
   ]
  },
  {
   "cell_type": "code",
   "execution_count": null,
   "id": "088b8058-1534-4757-badb-536a05a657b0",
   "metadata": {
    "tags": []
   },
   "outputs": [],
   "source": [
    "random_list = [105, 3.1, \"Hello\", 737, \"Python\", 2.7, \"World\", 412, 5.5, \"AI\"]\n",
    "checkdata(random_list)"
   ]
  }
 ],
 "metadata": {
  "kernelspec": {
   "display_name": "Python 3 (ipykernel)",
   "language": "python",
   "name": "python3"
  },
  "language_info": {
   "codemirror_mode": {
    "name": "ipython",
    "version": 3
   },
   "file_extension": ".py",
   "mimetype": "text/x-python",
   "name": "python",
   "nbconvert_exporter": "python",
   "pygments_lexer": "ipython3",
   "version": "3.11.4"
  }
 },
 "nbformat": 4,
 "nbformat_minor": 5
}
