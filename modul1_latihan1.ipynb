{
 "cells": [
  {
   "cell_type": "code",
   "execution_count": null,
   "id": "57be0afb-ff40-4df4-be5d-2b089c91be8e",
   "metadata": {
    "tags": []
   },
   "outputs": [],
   "source": [
    "#Fungsi Penjumlahan\n",
    "def add (input1, input2) :\n",
    "    if type(input1) == tuple and type(input2) == tuple:\n",
    "        return tree(input1) + tree(input2)\n",
    "    else:\n",
    "        return input1 + input2\n"
   ]
  },
  {
   "cell_type": "code",
   "execution_count": null,
   "id": "b265a903-dbc1-4b39-9dc8-2df4c332182b",
   "metadata": {
    "tags": []
   },
   "outputs": [],
   "source": [
    "#Fungsi Pengurangan\n",
    "def minus (input1, input2) :\n",
    "    if type(input1) == tuple and type(input2) == tuple:\n",
    "        return tree(input1) - tree(input2)\n",
    "    else:\n",
    "        return input1 - input2\n"
   ]
  },
  {
   "cell_type": "code",
   "execution_count": null,
   "id": "8769e49a-8d19-4de6-a0f1-4e8c2bd7cece",
   "metadata": {
    "tags": []
   },
   "outputs": [],
   "source": [
    "#Fungsi Perkalian\n",
    "def mult(input1, input2):\n",
    "    if type(input1) == tuple and type(input2) == tuple:\n",
    "        return tree(input1) * tree(input2)\n",
    "    else:\n",
    "        return input1 * input2\n"
   ]
  },
  {
   "cell_type": "code",
   "execution_count": null,
   "id": "d4867f06-0685-4ad6-a221-d6ea0a602f6c",
   "metadata": {
    "tags": []
   },
   "outputs": [],
   "source": [
    "#Fungsi Pembagian\n",
    "def div (input1, input2) :\n",
    "    if type(input1) == tuple and type(input2) == tuple:\n",
    "        return tree(input1) / tree(input2)\n",
    "        return result1 / result2\n",
    "    else:\n",
    "        return input1 / input2\n"
   ]
  },
  {
   "cell_type": "code",
   "execution_count": null,
   "id": "4f12e126-9c24-4824-b361-598945f2eb2a",
   "metadata": {},
   "outputs": [],
   "source": [
    "def tree(node) :\n",
    "    if type(node) in (int, float):\n",
    "        return node\n",
    "    elif type(node) is tuple and len(node) == 3:\n",
    "        operator, left_operand, right_operand = node\n",
    "        if operator =='+':\n",
    "            return add(left_operand, right_operand)\n",
    "        elif operator =='-':\n",
    "            return minus(left_operand, right_operand)\n",
    "        elif operator =='*':\n",
    "            return mult(left_operand, right_operand)\n",
    "        elif operator =='/':\n",
    "            return div(left_operand, right_operand)"
   ]
  },
  {
   "cell_type": "code",
   "execution_count": null,
   "id": "9a355e94-69e1-4c21-879d-073a6a725c9a",
   "metadata": {
    "tags": []
   },
   "outputs": [],
   "source": [
    "#Pohon Ekspresi = (2 + 3) * (5 - 1)\n",
    "expression_tree = ('*', ('+', 2, 3), ('-', 5, 1))\n",
    "result = tree(expression_tree)"
   ]
  },
  {
   "cell_type": "code",
   "execution_count": null,
   "id": "37489e74-0fcc-431e-b5e1-ffebbc0b8d87",
   "metadata": {
    "tags": []
   },
   "outputs": [],
   "source": [
    "print(\"Hasil evaluasi pohon ekspresi = \", result)"
   ]
  }
 ],
 "metadata": {
  "kernelspec": {
   "display_name": "Python 3 (ipykernel)",
   "language": "python",
   "name": "python3"
  },
  "language_info": {
   "codemirror_mode": {
    "name": "ipython",
    "version": 3
   },
   "file_extension": ".py",
   "mimetype": "text/x-python",
   "name": "python",
   "nbconvert_exporter": "python",
   "pygments_lexer": "ipython3",
   "version": "3.11.4"
  }
 },
 "nbformat": 4,
 "nbformat_minor": 5
}
