{
 "cells": [
  {
   "cell_type": "code",
   "execution_count": null,
   "id": "ffd22daa-9053-4569-92dd-c9b46ae0b127",
   "metadata": {},
   "outputs": [],
   "source": [
    "#Sistem Penilaian Akhir Mahasiswa"
   ]
  },
  {
   "cell_type": "code",
   "execution_count": null,
   "id": "81a184cb-534f-4f22-a426-043ca0e92998",
   "metadata": {},
   "outputs": [],
   "source": [
    "#Tambahkan fungsi untuk menghitung nilai akhir\n",
    "def hitung_nilai_akhir(uts, uas):\n",
    "    nilai_akhir = (uts + uas) / 2\n",
    "    return nilai_akhir"
   ]
  },
  {
   "cell_type": "code",
   "execution_count": null,
   "id": "aa83fe4c-0f8b-4614-b802-d05b28412db1",
   "metadata": {},
   "outputs": [],
   "source": [
    "#Tambahkan fungsi untuk menghitung nilai akhir semua mahasiswa\n",
    "def hitung_nilai_akhir_semua_mahasiswa(data_mahasiswa):\n",
    "    temp_data_nilai_akhir = {}\n",
    "    for nama, nilai in data_mahasiswa.items():\n",
    "        uts = nilai[\"uts\"]\n",
    "        uas = nilai[\"uas\"]\n",
    "        nilai_akhir = hitung_nilai_akhir(uts, uas)\n",
    "        temp_data_nilai_akhir[nama] = nilai_akhir\n",
    "    return temp_data_nilai_akhir"
   ]
  },
  {
   "cell_type": "code",
   "execution_count": null,
   "id": "02e22453-42eb-46fc-be79-f80b23b9c298",
   "metadata": {},
   "outputs": [],
   "source": [
    "def tampilkan_nilai_akhir(data_nilai_akhir):\n",
    "    print(\"Hasil Nilai Akhir Mahasiswa: \")\n",
    "    for nama, nilai_akhir in data_nilai_akhir.items():\n",
    "        print(\"Nama : {}\\tNilai Akhir: {:.2f}\".format(nama, nilai_akhir))"
   ]
  },
  {
   "cell_type": "code",
   "execution_count": null,
   "id": "002ded5e-b525-4ceb-a187-426f1de70467",
   "metadata": {
    "tags": []
   },
   "outputs": [],
   "source": [
    "def main():\n",
    "    data_mahasiswa = {\n",
    "        #Data mahasiswa (nama sebagai key dan nilai UTS serta UAS sebagai value dalam bentuk dictionary)\n",
    "        \"Zidan\": {\"uts\": 90, \"uas\": 85}, \"Andaru\": {\"uts\": 100, \"uas\": 90}, \"Faiz\": {\"uts\": 80, \"uas\": 75}\n",
    "    }\n",
    "    \n",
    "    data_nilai_akhir = hitung_nilai_akhir_semua_mahasiswa(data_mahasiswa)\n",
    "    \n",
    "    tampilkan_nilai_akhir(data_nilai_akhir)\n",
    "    \n",
    "if __name__ == \"__main__\":\n",
    "    main()"
   ]
  }
 ],
 "metadata": {
  "kernelspec": {
   "display_name": "Python 3 (ipykernel)",
   "language": "python",
   "name": "python3"
  },
  "language_info": {
   "codemirror_mode": {
    "name": "ipython",
    "version": 3
   },
   "file_extension": ".py",
   "mimetype": "text/x-python",
   "name": "python",
   "nbconvert_exporter": "python",
   "pygments_lexer": "ipython3",
   "version": "3.11.4"
  }
 },
 "nbformat": 4,
 "nbformat_minor": 5
}
